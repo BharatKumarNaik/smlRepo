{
 "cells": [
  {
   "cell_type": "code",
   "execution_count": 1,
   "id": "86f6ba18-7a2f-46ab-bb25-be6b2e9716f8",
   "metadata": {},
   "outputs": [],
   "source": [
    "import pandas as pd"
   ]
  },
  {
   "cell_type": "code",
   "execution_count": 5,
   "id": "8b347ac8-96df-4b49-8500-b30bd48b0971",
   "metadata": {},
   "outputs": [
    {
     "data": {
      "text/plain": [
       "['WEAPON SOURCE COUNTRY',\n",
       " 'WEAPON DEPLOYMENT LOCATION',\n",
       " 'Data.Source',\n",
       " 'Location.Cordinates.Latitude',\n",
       " 'Location.Cordinates.Longitude',\n",
       " 'Data.Magnitude.Body',\n",
       " 'Data.Magnitude.Surface',\n",
       " 'Location.Cordinates.Depth',\n",
       " 'Data.Yeild.Lower',\n",
       " 'Data.Yeild.Upper',\n",
       " 'Data.Purpose',\n",
       " 'Data.Name',\n",
       " 'Data.Type',\n",
       " 'Date.Day',\n",
       " 'Date.Month',\n",
       " 'Date.Year']"
      ]
     },
     "execution_count": 2,
     "metadata": {},
     "output_type": "execute_result"
    }
   ],
   "source": [
    "# 1.\tPrint the columns of the data\n",
    "df=pd.read_csv(\"nuclear_explosions.csv\")\n",
    "list(df.columns)"
   ]
  },
  {
   "cell_type": "code",
   "execution_count": 11,
   "id": "9b312881-648e-4b4a-a588-49418f01c018",
   "metadata": {},
   "outputs": [],
   "source": [
    "# 2.\tRename the columns which is more relatable according to you\n",
    "df.columns=[\"Country\",\"Location\",\"Data_source\",\"Latitude\",\"Longitude\",\"Body_magnitude\",\"surface_magnitude\",\"Depth\",\"Lower_Yeild\",\"Upper_Yeild\",\"Purpose\",\"Name\",\"Type\",\"Day\",\"Month\",\"Year\"]"
   ]
  },
  {
   "cell_type": "code",
   "execution_count": 12,
   "id": "9871c645-5a8e-4278-b01b-af504fc644e2",
   "metadata": {},
   "outputs": [
    {
     "data": {
      "text/html": [
       "<div>\n",
       "<style scoped>\n",
       "    .dataframe tbody tr th:only-of-type {\n",
       "        vertical-align: middle;\n",
       "    }\n",
       "\n",
       "    .dataframe tbody tr th {\n",
       "        vertical-align: top;\n",
       "    }\n",
       "\n",
       "    .dataframe thead th {\n",
       "        text-align: right;\n",
       "    }\n",
       "</style>\n",
       "<table border=\"1\" class=\"dataframe\">\n",
       "  <thead>\n",
       "    <tr style=\"text-align: right;\">\n",
       "      <th></th>\n",
       "      <th>Country</th>\n",
       "      <th>Location</th>\n",
       "      <th>Data_source</th>\n",
       "      <th>Latitude</th>\n",
       "      <th>Longitude</th>\n",
       "      <th>Body_magnitude</th>\n",
       "      <th>surface_magnitude</th>\n",
       "      <th>Depth</th>\n",
       "      <th>Lower_Yeild</th>\n",
       "      <th>Upper_Yeild</th>\n",
       "      <th>Purpose</th>\n",
       "      <th>Name</th>\n",
       "      <th>Type</th>\n",
       "      <th>Day</th>\n",
       "      <th>Month</th>\n",
       "      <th>Year</th>\n",
       "    </tr>\n",
       "  </thead>\n",
       "  <tbody>\n",
       "    <tr>\n",
       "      <th>0</th>\n",
       "      <td>USA</td>\n",
       "      <td>Alamogordo</td>\n",
       "      <td>DOE</td>\n",
       "      <td>32.54</td>\n",
       "      <td>-105.57</td>\n",
       "      <td>0.0</td>\n",
       "      <td>0.0</td>\n",
       "      <td>-0.10</td>\n",
       "      <td>21.0</td>\n",
       "      <td>21.0</td>\n",
       "      <td>Wr</td>\n",
       "      <td>Trinity</td>\n",
       "      <td>Tower</td>\n",
       "      <td>16</td>\n",
       "      <td>7</td>\n",
       "      <td>1945</td>\n",
       "    </tr>\n",
       "    <tr>\n",
       "      <th>1</th>\n",
       "      <td>USA</td>\n",
       "      <td>Hiroshima</td>\n",
       "      <td>DOE</td>\n",
       "      <td>34.23</td>\n",
       "      <td>132.27</td>\n",
       "      <td>0.0</td>\n",
       "      <td>0.0</td>\n",
       "      <td>-0.60</td>\n",
       "      <td>15.0</td>\n",
       "      <td>15.0</td>\n",
       "      <td>Combat</td>\n",
       "      <td>Littleboy</td>\n",
       "      <td>Airdrop</td>\n",
       "      <td>5</td>\n",
       "      <td>8</td>\n",
       "      <td>1945</td>\n",
       "    </tr>\n",
       "    <tr>\n",
       "      <th>2</th>\n",
       "      <td>USA</td>\n",
       "      <td>Nagasaki</td>\n",
       "      <td>DOE</td>\n",
       "      <td>32.45</td>\n",
       "      <td>129.52</td>\n",
       "      <td>0.0</td>\n",
       "      <td>0.0</td>\n",
       "      <td>-0.60</td>\n",
       "      <td>21.0</td>\n",
       "      <td>21.0</td>\n",
       "      <td>Combat</td>\n",
       "      <td>Fatman</td>\n",
       "      <td>Airdrop</td>\n",
       "      <td>9</td>\n",
       "      <td>8</td>\n",
       "      <td>1945</td>\n",
       "    </tr>\n",
       "    <tr>\n",
       "      <th>3</th>\n",
       "      <td>USA</td>\n",
       "      <td>Bikini</td>\n",
       "      <td>DOE</td>\n",
       "      <td>11.35</td>\n",
       "      <td>165.20</td>\n",
       "      <td>0.0</td>\n",
       "      <td>0.0</td>\n",
       "      <td>-0.20</td>\n",
       "      <td>21.0</td>\n",
       "      <td>21.0</td>\n",
       "      <td>We</td>\n",
       "      <td>Able</td>\n",
       "      <td>Airdrop</td>\n",
       "      <td>30</td>\n",
       "      <td>6</td>\n",
       "      <td>1946</td>\n",
       "    </tr>\n",
       "    <tr>\n",
       "      <th>4</th>\n",
       "      <td>USA</td>\n",
       "      <td>Bikini</td>\n",
       "      <td>DOE</td>\n",
       "      <td>11.35</td>\n",
       "      <td>165.20</td>\n",
       "      <td>0.0</td>\n",
       "      <td>0.0</td>\n",
       "      <td>0.03</td>\n",
       "      <td>21.0</td>\n",
       "      <td>21.0</td>\n",
       "      <td>We</td>\n",
       "      <td>Baker</td>\n",
       "      <td>Uw</td>\n",
       "      <td>24</td>\n",
       "      <td>7</td>\n",
       "      <td>1946</td>\n",
       "    </tr>\n",
       "  </tbody>\n",
       "</table>\n",
       "</div>"
      ],
      "text/plain": [
       "  Country    Location Data_source  Latitude  Longitude  Body_magnitude  \\\n",
       "0     USA  Alamogordo         DOE     32.54    -105.57             0.0   \n",
       "1     USA   Hiroshima         DOE     34.23     132.27             0.0   \n",
       "2     USA    Nagasaki         DOE     32.45     129.52             0.0   \n",
       "3     USA      Bikini         DOE     11.35     165.20             0.0   \n",
       "4     USA      Bikini         DOE     11.35     165.20             0.0   \n",
       "\n",
       "   surface_magnitude  Depth  Lower_Yeild  Upper_Yeild Purpose       Name  \\\n",
       "0                0.0  -0.10         21.0         21.0      Wr    Trinity   \n",
       "1                0.0  -0.60         15.0         15.0  Combat  Littleboy   \n",
       "2                0.0  -0.60         21.0         21.0  Combat     Fatman   \n",
       "3                0.0  -0.20         21.0         21.0      We       Able   \n",
       "4                0.0   0.03         21.0         21.0      We      Baker   \n",
       "\n",
       "      Type  Day  Month  Year  \n",
       "0    Tower   16      7  1945  \n",
       "1  Airdrop    5      8  1945  \n",
       "2  Airdrop    9      8  1945  \n",
       "3  Airdrop   30      6  1946  \n",
       "4       Uw   24      7  1946  "
      ]
     },
     "execution_count": 4,
     "metadata": {},
     "output_type": "execute_result"
    }
   ],
   "source": [
    "df.head()"
   ]
  },
  {
   "cell_type": "code",
   "execution_count": 32,
   "id": "ae6bdd42-60bd-4688-93bb-f36e5e3bdc52",
   "metadata": {},
   "outputs": [
    {
     "data": {
      "text/plain": [
       "Country              0\n",
       "Location             0\n",
       "Data_source          0\n",
       "Latitude             0\n",
       "Longitude            0\n",
       "Body_magnitude       0\n",
       "surface_magnitude    0\n",
       "Depth                0\n",
       "Lower_Yeild          0\n",
       "Upper_Yeild          0\n",
       "Purpose              0\n",
       "Name                 0\n",
       "Type                 0\n",
       "Day                  0\n",
       "Month                0\n",
       "Year                 0\n",
       "dtype: int64"
      ]
     },
     "execution_count": 5,
     "metadata": {},
     "output_type": "execute_result"
    }
   ],
   "source": [
    "# 3.\tCheck for missing values (presence and sum) (Some values are in string “NAN” format)\n",
    "df = df.replace('NAN',None)\n",
    "df.isna().sum()"
   ]
  },
  {
   "cell_type": "code",
   "execution_count": 34,
   "id": "ca63102c-5c57-4f1f-9c18-4eed5e3eef1d",
   "metadata": {},
   "outputs": [
    {
     "data": {
      "text/html": [
       "<div>\n",
       "<style scoped>\n",
       "    .dataframe tbody tr th:only-of-type {\n",
       "        vertical-align: middle;\n",
       "    }\n",
       "\n",
       "    .dataframe tbody tr th {\n",
       "        vertical-align: top;\n",
       "    }\n",
       "\n",
       "    .dataframe thead th {\n",
       "        text-align: right;\n",
       "    }\n",
       "</style>\n",
       "<table border=\"1\" class=\"dataframe\">\n",
       "  <thead>\n",
       "    <tr style=\"text-align: right;\">\n",
       "      <th></th>\n",
       "      <th>Country</th>\n",
       "      <th>Location</th>\n",
       "      <th>Data_source</th>\n",
       "      <th>Latitude</th>\n",
       "      <th>Longitude</th>\n",
       "      <th>Body_magnitude</th>\n",
       "      <th>surface_magnitude</th>\n",
       "      <th>Depth</th>\n",
       "      <th>Lower_Yeild</th>\n",
       "      <th>Upper_Yeild</th>\n",
       "      <th>Purpose</th>\n",
       "      <th>Name</th>\n",
       "      <th>Type</th>\n",
       "      <th>Day</th>\n",
       "      <th>Month</th>\n",
       "      <th>Year</th>\n",
       "    </tr>\n",
       "  </thead>\n",
       "  <tbody>\n",
       "    <tr>\n",
       "      <th>0</th>\n",
       "      <td>USA</td>\n",
       "      <td>Alamogordo</td>\n",
       "      <td>DOE</td>\n",
       "      <td>32.54</td>\n",
       "      <td>-105.57</td>\n",
       "      <td>0.0</td>\n",
       "      <td>0.0</td>\n",
       "      <td>-0.10</td>\n",
       "      <td>21.0</td>\n",
       "      <td>21.0</td>\n",
       "      <td>Wr</td>\n",
       "      <td>Trinity</td>\n",
       "      <td>Tower</td>\n",
       "      <td>16</td>\n",
       "      <td>7</td>\n",
       "      <td>1945</td>\n",
       "    </tr>\n",
       "    <tr>\n",
       "      <th>1</th>\n",
       "      <td>USA</td>\n",
       "      <td>Hiroshima</td>\n",
       "      <td>DOE</td>\n",
       "      <td>34.23</td>\n",
       "      <td>132.27</td>\n",
       "      <td>0.0</td>\n",
       "      <td>0.0</td>\n",
       "      <td>-0.60</td>\n",
       "      <td>15.0</td>\n",
       "      <td>15.0</td>\n",
       "      <td>Combat</td>\n",
       "      <td>Littleboy</td>\n",
       "      <td>Airdrop</td>\n",
       "      <td>5</td>\n",
       "      <td>8</td>\n",
       "      <td>1945</td>\n",
       "    </tr>\n",
       "    <tr>\n",
       "      <th>2</th>\n",
       "      <td>USA</td>\n",
       "      <td>Nagasaki</td>\n",
       "      <td>DOE</td>\n",
       "      <td>32.45</td>\n",
       "      <td>129.52</td>\n",
       "      <td>0.0</td>\n",
       "      <td>0.0</td>\n",
       "      <td>-0.60</td>\n",
       "      <td>21.0</td>\n",
       "      <td>21.0</td>\n",
       "      <td>Combat</td>\n",
       "      <td>Fatman</td>\n",
       "      <td>Airdrop</td>\n",
       "      <td>9</td>\n",
       "      <td>8</td>\n",
       "      <td>1945</td>\n",
       "    </tr>\n",
       "    <tr>\n",
       "      <th>3</th>\n",
       "      <td>USA</td>\n",
       "      <td>Bikini</td>\n",
       "      <td>DOE</td>\n",
       "      <td>11.35</td>\n",
       "      <td>165.20</td>\n",
       "      <td>0.0</td>\n",
       "      <td>0.0</td>\n",
       "      <td>-0.20</td>\n",
       "      <td>21.0</td>\n",
       "      <td>21.0</td>\n",
       "      <td>We</td>\n",
       "      <td>Able</td>\n",
       "      <td>Airdrop</td>\n",
       "      <td>30</td>\n",
       "      <td>6</td>\n",
       "      <td>1946</td>\n",
       "    </tr>\n",
       "    <tr>\n",
       "      <th>4</th>\n",
       "      <td>USA</td>\n",
       "      <td>Bikini</td>\n",
       "      <td>DOE</td>\n",
       "      <td>11.35</td>\n",
       "      <td>165.20</td>\n",
       "      <td>0.0</td>\n",
       "      <td>0.0</td>\n",
       "      <td>0.03</td>\n",
       "      <td>21.0</td>\n",
       "      <td>21.0</td>\n",
       "      <td>We</td>\n",
       "      <td>Baker</td>\n",
       "      <td>Uw</td>\n",
       "      <td>24</td>\n",
       "      <td>7</td>\n",
       "      <td>1946</td>\n",
       "    </tr>\n",
       "    <tr>\n",
       "      <th>...</th>\n",
       "      <td>...</td>\n",
       "      <td>...</td>\n",
       "      <td>...</td>\n",
       "      <td>...</td>\n",
       "      <td>...</td>\n",
       "      <td>...</td>\n",
       "      <td>...</td>\n",
       "      <td>...</td>\n",
       "      <td>...</td>\n",
       "      <td>...</td>\n",
       "      <td>...</td>\n",
       "      <td>...</td>\n",
       "      <td>...</td>\n",
       "      <td>...</td>\n",
       "      <td>...</td>\n",
       "      <td>...</td>\n",
       "    </tr>\n",
       "    <tr>\n",
       "      <th>2041</th>\n",
       "      <td>CHINA</td>\n",
       "      <td>Lop Nor</td>\n",
       "      <td>HFS</td>\n",
       "      <td>41.69</td>\n",
       "      <td>88.35</td>\n",
       "      <td>5.3</td>\n",
       "      <td>0.0</td>\n",
       "      <td>0.00</td>\n",
       "      <td>3.0</td>\n",
       "      <td>12.0</td>\n",
       "      <td>Wr</td>\n",
       "      <td>Nan</td>\n",
       "      <td>Ug</td>\n",
       "      <td>29</td>\n",
       "      <td>7</td>\n",
       "      <td>1996</td>\n",
       "    </tr>\n",
       "    <tr>\n",
       "      <th>2042</th>\n",
       "      <td>INDIA</td>\n",
       "      <td>Pokhran</td>\n",
       "      <td>HFS</td>\n",
       "      <td>27.07</td>\n",
       "      <td>71.70</td>\n",
       "      <td>5.3</td>\n",
       "      <td>0.0</td>\n",
       "      <td>0.00</td>\n",
       "      <td>0.0</td>\n",
       "      <td>20.0</td>\n",
       "      <td>Wr</td>\n",
       "      <td>Shakti 1-3</td>\n",
       "      <td>Ug</td>\n",
       "      <td>11</td>\n",
       "      <td>5</td>\n",
       "      <td>1998</td>\n",
       "    </tr>\n",
       "    <tr>\n",
       "      <th>2043</th>\n",
       "      <td>INDIA</td>\n",
       "      <td>Pokhran</td>\n",
       "      <td>NRD</td>\n",
       "      <td>27.07</td>\n",
       "      <td>71.70</td>\n",
       "      <td>0.0</td>\n",
       "      <td>0.0</td>\n",
       "      <td>0.00</td>\n",
       "      <td>0.0</td>\n",
       "      <td>1.0</td>\n",
       "      <td>Wr</td>\n",
       "      <td>Nan</td>\n",
       "      <td>Ug</td>\n",
       "      <td>13</td>\n",
       "      <td>5</td>\n",
       "      <td>1998</td>\n",
       "    </tr>\n",
       "    <tr>\n",
       "      <th>2044</th>\n",
       "      <td>PAKIST</td>\n",
       "      <td>Chagai</td>\n",
       "      <td>HFS</td>\n",
       "      <td>28.90</td>\n",
       "      <td>64.89</td>\n",
       "      <td>0.0</td>\n",
       "      <td>0.0</td>\n",
       "      <td>0.00</td>\n",
       "      <td>0.0</td>\n",
       "      <td>35.0</td>\n",
       "      <td>Wr</td>\n",
       "      <td>Nan</td>\n",
       "      <td>Ug</td>\n",
       "      <td>28</td>\n",
       "      <td>5</td>\n",
       "      <td>1998</td>\n",
       "    </tr>\n",
       "    <tr>\n",
       "      <th>2045</th>\n",
       "      <td>PAKIST</td>\n",
       "      <td>Kharan</td>\n",
       "      <td>HFS</td>\n",
       "      <td>28.49</td>\n",
       "      <td>63.78</td>\n",
       "      <td>5.0</td>\n",
       "      <td>0.0</td>\n",
       "      <td>0.00</td>\n",
       "      <td>0.0</td>\n",
       "      <td>18.0</td>\n",
       "      <td>Wr</td>\n",
       "      <td>Nan</td>\n",
       "      <td>Ug</td>\n",
       "      <td>30</td>\n",
       "      <td>5</td>\n",
       "      <td>1998</td>\n",
       "    </tr>\n",
       "  </tbody>\n",
       "</table>\n",
       "<p>2046 rows × 16 columns</p>\n",
       "</div>"
      ],
      "text/plain": [
       "     Country    Location Data_source  Latitude  Longitude  Body_magnitude  \\\n",
       "0        USA  Alamogordo         DOE     32.54    -105.57             0.0   \n",
       "1        USA   Hiroshima         DOE     34.23     132.27             0.0   \n",
       "2        USA    Nagasaki         DOE     32.45     129.52             0.0   \n",
       "3        USA      Bikini         DOE     11.35     165.20             0.0   \n",
       "4        USA      Bikini         DOE     11.35     165.20             0.0   \n",
       "...      ...         ...         ...       ...        ...             ...   \n",
       "2041   CHINA     Lop Nor         HFS     41.69      88.35             5.3   \n",
       "2042   INDIA     Pokhran         HFS     27.07      71.70             5.3   \n",
       "2043   INDIA     Pokhran         NRD     27.07      71.70             0.0   \n",
       "2044  PAKIST      Chagai         HFS     28.90      64.89             0.0   \n",
       "2045  PAKIST      Kharan         HFS     28.49      63.78             5.0   \n",
       "\n",
       "      surface_magnitude  Depth  Lower_Yeild  Upper_Yeild Purpose        Name  \\\n",
       "0                   0.0  -0.10         21.0         21.0      Wr     Trinity   \n",
       "1                   0.0  -0.60         15.0         15.0  Combat   Littleboy   \n",
       "2                   0.0  -0.60         21.0         21.0  Combat      Fatman   \n",
       "3                   0.0  -0.20         21.0         21.0      We        Able   \n",
       "4                   0.0   0.03         21.0         21.0      We       Baker   \n",
       "...                 ...    ...          ...          ...     ...         ...   \n",
       "2041                0.0   0.00          3.0         12.0      Wr         Nan   \n",
       "2042                0.0   0.00          0.0         20.0      Wr  Shakti 1-3   \n",
       "2043                0.0   0.00          0.0          1.0      Wr         Nan   \n",
       "2044                0.0   0.00          0.0         35.0      Wr         Nan   \n",
       "2045                0.0   0.00          0.0         18.0      Wr         Nan   \n",
       "\n",
       "         Type  Day  Month  Year  \n",
       "0       Tower   16      7  1945  \n",
       "1     Airdrop    5      8  1945  \n",
       "2     Airdrop    9      8  1945  \n",
       "3     Airdrop   30      6  1946  \n",
       "4          Uw   24      7  1946  \n",
       "...       ...  ...    ...   ...  \n",
       "2041       Ug   29      7  1996  \n",
       "2042       Ug   11      5  1998  \n",
       "2043       Ug   13      5  1998  \n",
       "2044       Ug   28      5  1998  \n",
       "2045       Ug   30      5  1998  \n",
       "\n",
       "[2046 rows x 16 columns]"
      ]
     },
     "execution_count": 6,
     "metadata": {},
     "output_type": "execute_result"
    }
   ],
   "source": [
    "# 4.\tTreat the missing values using appropriate strategy\n",
    "df.dropna()"
   ]
  },
  {
   "cell_type": "code",
   "execution_count": 37,
   "id": "63885a42-2b08-45a4-b814-96a0418579df",
   "metadata": {},
   "outputs": [
    {
     "data": {
      "text/plain": [
       "3"
      ]
     },
     "execution_count": 7,
     "metadata": {},
     "output_type": "execute_result"
    }
   ],
   "source": [
    "# 5.\tCheck for duplicates and treat them\n",
    "df.duplicated().sum()"
   ]
  },
  {
   "cell_type": "code",
   "execution_count": 42,
   "id": "8ce33e6f-9159-4301-ac34-4389815438a5",
   "metadata": {},
   "outputs": [
    {
     "data": {
      "text/plain": [
       "0"
      ]
     },
     "execution_count": 8,
     "metadata": {},
     "output_type": "execute_result"
    }
   ],
   "source": [
    "df.drop_duplicates(inplace=True)\n",
    "df.duplicated().sum()"
   ]
  },
  {
   "cell_type": "code",
   "execution_count": 49,
   "id": "d241afe5-dff0-4c63-9f77-e5b298418e95",
   "metadata": {},
   "outputs": [
    {
     "data": {
      "text/plain": [
       "Country               object\n",
       "Location              object\n",
       "Data_source           object\n",
       "Latitude             float64\n",
       "Longitude            float64\n",
       "Body_magnitude       float64\n",
       "surface_magnitude    float64\n",
       "Depth                float64\n",
       "Lower_Yeild          float64\n",
       "Upper_Yeild          float64\n",
       "Purpose               object\n",
       "Name                  object\n",
       "Type                  object\n",
       "Day                    int64\n",
       "Month                  int64\n",
       "Year                   int64\n",
       "dtype: object"
      ]
     },
     "execution_count": 9,
     "metadata": {},
     "output_type": "execute_result"
    }
   ],
   "source": [
    "# 6.\tLook for unique values in categorical column\n",
    "df.dtypes"
   ]
  },
  {
   "cell_type": "code",
   "execution_count": 51,
   "id": "ad2ff51a-c322-4463-99e0-20cb4601e56b",
   "metadata": {},
   "outputs": [],
   "source": [
    "temp=[df[\"Country\"],df[\"Location\"],df[\"Data_source\"],df[\"Purpose\"],df[\"Type\"],df[\"Type\"]]"
   ]
  },
  {
   "cell_type": "code",
   "execution_count": 64,
   "id": "0f524cda-c83a-459d-ac83-b6030e7dc7ae",
   "metadata": {},
   "outputs": [
    {
     "name": "stdout",
     "output_type": "stream",
     "text": [
      "['USA' 'USSR' 'UK' 'FRANCE' 'CHINA' 'INDIA' 'PAKIST'] USA       1031\n",
      "USSR       711\n",
      "FRANCE     208\n",
      "UK          45\n",
      "CHINA       43\n",
      "INDIA        3\n",
      "PAKIST       2\n",
      "Name: Country, dtype: int64\n",
      "\n",
      "['Alamogordo' 'Hiroshima' 'Nagasaki' 'Bikini' 'Enewetak' 'Semi Kazakh'\n",
      " 'Nts' 'Monteb Austr' 'Emu Austr' 'Orenbg Russ' 'Offuswcoast' 'Nz Russ'\n",
      " 'Kazakh' 'Marali Austr' 'Mtr Russ' 'Mellis Nv' 'Malden Is' 'N2 Russ'\n",
      " 'Christmas Is' 'Pacific' 'Johnston Is' 'S. Atlantic' 'S.Atlantic'\n",
      " 'Htr Russ' 'Reggane Alg' 'In Ecker Alg' 'Carlsbad Nm' 'Nellis Nv'\n",
      " 'Fallon Nv' 'Lop Nor' 'Hattiesb Ms' 'Bashkir Russ' 'Amchitka Ak'\n",
      " 'Azgir Kazakh' 'Muruhoa' 'Mururoa' 'Fangataufa' 'Uzbek' 'Hattiese Ms'\n",
      " 'Murueoa' 'Tyumen Russ' 'Farmingt Nm' 'C. Nevada' 'Pamuk Uzbek'\n",
      " 'Perm Russ' 'Grand V Co' 'Stavro Russ' 'Mangy Kazakh' 'Ural Russ'\n",
      " 'Arkhan Russ' 'Mary Turkmen' 'Ukraine' 'Murm Russ' 'Kalmyk Russ'\n",
      " 'Rifle Co' 'W Mururoa' 'Pokhran' 'Wsw Mururoa' 'Komi Russ' 'Jakuts Russ'\n",
      " 'Krasno Russ' 'Chita Russ' 'Irkuts Russ' 'Jakuts Ruse' 'Azgie Kazakh'\n",
      " 'Azgir' 'Mueueoa' 'Ukeaine' 'Bashki Russ' 'Astrak Russ' 'Kz Russ'\n",
      " 'Kazakhstan' 'Kemero Russ' 'Tuymen Russ' 'W Kazakh' 'Hururoa'\n",
      " 'Fangataufaa' 'Chagai' 'Kharan'] Nts             928\n",
      "Semi Kazakh     454\n",
      "Mururoa         171\n",
      "Nz Russ         128\n",
      "Enewetak         43\n",
      "               ... \n",
      "Grand V Co        1\n",
      "Stavro Russ       1\n",
      "Mary Turkmen      1\n",
      "Ukraine           1\n",
      "Kharan            1\n",
      "Name: Location, Length: 79, dtype: int64\n",
      "\n",
      "['DOE' 'MTM' 'UGS' 'ISC' 'DIS' 'SPA' 'ZAR' 'WTN' 'HFS' 'MTU' 'NRD' 'BKY'\n",
      " 'NOA'] DOE    711\n",
      "ISC    545\n",
      "UGS    340\n",
      "MTM    167\n",
      "HFS    113\n",
      "WTN     93\n",
      "SPA     23\n",
      "DIS     19\n",
      "BKY     19\n",
      "NOA      9\n",
      "NRD      2\n",
      "ZAR      1\n",
      "MTU      1\n",
      "Name: Data_source, dtype: int64\n",
      "\n",
      "['Wr' 'Combat' 'We' 'Me' 'Se' 'Fms' 'Sb' 'Sam' 'Pne:Plo' 'Transp' 'Pne:V'\n",
      " 'Nan' 'Pne' 'Wr/Se' 'Wr/We' 'Wr/Pne' 'Wr/Sam' 'Pne/Wr' 'Se/Wr' 'Wr/P/Sa'\n",
      " 'We/Sam' 'We/Wr' 'Wr/F/Sa' 'Wr/Fms' 'Fms/Wr' 'Wr/P/S' 'Wr/F/S' 'Wr/We/S'] Wr         1489\n",
      "We          180\n",
      "Pne         152\n",
      "Se           71\n",
      "Fms          33\n",
      "Pne:Plo      27\n",
      "Sam          25\n",
      "Wr/Se        11\n",
      "Pne:V         7\n",
      "Wr/Sam        6\n",
      "Wr/Fms        6\n",
      "Sb            5\n",
      "Transp        4\n",
      "We/Sam        3\n",
      "Wr/Pne        3\n",
      "We/Wr         3\n",
      "Wr/F/Sa       2\n",
      "Fms/Wr        2\n",
      "Wr/We         2\n",
      "Se/Wr         2\n",
      "Pne/Wr        2\n",
      "Combat        2\n",
      "Wr/P/Sa       1\n",
      "Nan           1\n",
      "Me            1\n",
      "Wr/P/S        1\n",
      "Wr/F/S        1\n",
      "Wr/We/S       1\n",
      "Name: Purpose, dtype: int64\n",
      "\n",
      "['Tower' 'Airdrop' 'Uw' 'Surface' 'Crater' 'Ship' 'Atmosph' 'Barge'\n",
      " 'Balloon' 'Rocket' 'Shaft' 'Tunnel' 'Watersur' 'Space' 'Gallery'\n",
      " 'Water Su' 'Ug' 'Shaft/Gr' 'Mine' 'Shaft/Lg'] Shaft       1014\n",
      "Tunnel       309\n",
      "Atmosph      184\n",
      "Shaft/Gr      85\n",
      "Airdrop       78\n",
      "Tower         75\n",
      "Surface       62\n",
      "Balloon       60\n",
      "Shaft/Lg      56\n",
      "Barge         40\n",
      "Ug            31\n",
      "Gallery       13\n",
      "Rocket        12\n",
      "Crater         9\n",
      "Uw             8\n",
      "Space          3\n",
      "Ship           1\n",
      "Watersur       1\n",
      "Water Su       1\n",
      "Mine           1\n",
      "Name: Type, dtype: int64\n",
      "\n",
      "['Tower' 'Airdrop' 'Uw' 'Surface' 'Crater' 'Ship' 'Atmosph' 'Barge'\n",
      " 'Balloon' 'Rocket' 'Shaft' 'Tunnel' 'Watersur' 'Space' 'Gallery'\n",
      " 'Water Su' 'Ug' 'Shaft/Gr' 'Mine' 'Shaft/Lg'] Shaft       1014\n",
      "Tunnel       309\n",
      "Atmosph      184\n",
      "Shaft/Gr      85\n",
      "Airdrop       78\n",
      "Tower         75\n",
      "Surface       62\n",
      "Balloon       60\n",
      "Shaft/Lg      56\n",
      "Barge         40\n",
      "Ug            31\n",
      "Gallery       13\n",
      "Rocket        12\n",
      "Crater         9\n",
      "Uw             8\n",
      "Space          3\n",
      "Ship           1\n",
      "Watersur       1\n",
      "Water Su       1\n",
      "Mine           1\n",
      "Name: Type, dtype: int64\n",
      "\n"
     ]
    }
   ],
   "source": [
    "for i in temp:\n",
    "    print(i.unique(),i.value_counts())\n",
    "    print()"
   ]
  },
  {
   "cell_type": "code",
   "execution_count": 67,
   "id": "462cf91b-49f4-4f1d-90c4-094d511780c4",
   "metadata": {},
   "outputs": [
    {
     "data": {
      "text/plain": [
       "Country               object\n",
       "Location              object\n",
       "Data_source           object\n",
       "Latitude             float64\n",
       "Longitude            float64\n",
       "Body_magnitude       float64\n",
       "surface_magnitude    float64\n",
       "Depth                float64\n",
       "Lower_Yeild          float64\n",
       "Upper_Yeild          float64\n",
       "Purpose               object\n",
       "Name                  object\n",
       "Type                  object\n",
       "Day                    int64\n",
       "Month                  int64\n",
       "Year                   int64\n",
       "dtype: object"
      ]
     },
     "execution_count": 12,
     "metadata": {},
     "output_type": "execute_result"
    }
   ],
   "source": [
    "# 7.\tCheck data types of each column\n",
    "df.dtypes"
   ]
  },
  {
   "cell_type": "code",
   "execution_count": 146,
   "id": "9e880fef-0a27-4719-9dae-7c82c710755e",
   "metadata": {},
   "outputs": [],
   "source": [
    "import seaborn as sns\n",
    "import matplotlib as plt"
   ]
  },
  {
   "cell_type": "code",
   "execution_count": 153,
   "id": "870690c6-f875-48e9-b1a2-395755526fac",
   "metadata": {},
   "outputs": [
    {
     "data": {
      "text/plain": [
       "<AxesSubplot: xlabel='Country', ylabel='count'>"
      ]
     },
     "execution_count": 14,
     "metadata": {},
     "output_type": "execute_result"
    },
    {
     "data": {
      "image/png": "[encoded data removed]",
      "text/plain": [
       "<Figure size 432x288 with 1 Axes>"
      ]
     },
     "metadata": {
      "needs_background": "light"
     },
     "output_type": "display_data"
    }
   ],
   "source": [
    "# a.\tCountry wise count of nuclear explosion\n",
    "sns.countplot(data=df,x=\"Country\")"
   ]
  },
  {
   "cell_type": "code",
   "execution_count": 167,
   "id": "65834d15-161b-428c-8570-d9e876927c8d",
   "metadata": {},
   "outputs": [
    {
     "data": {
      "text/plain": [
       "<AxesSubplot: xlabel='Location', ylabel='count'>"
      ]
     },
     "execution_count": 15,
     "metadata": {},
     "output_type": "execute_result"
    },
    {
     "data": {
      "image/png": "[encoded data removed]",
      "text/plain": [
       "<Figure size 432x288 with 1 Axes>"
      ]
     },
     "metadata": {
      "needs_background": "light"
     },
     "output_type": "display_data"
    }
   ],
   "source": [
    "# b.\tDeployment location count\n",
    "sns.countplot(data=df[\"Location\"],x=df[\"Location\"])"
   ]
  },
  {
   "cell_type": "code",
   "execution_count": 169,
   "id": "ffe3a4d9-ccb8-4750-a66d-794e4323dad6",
   "metadata": {},
   "outputs": [
    {
     "data": {
      "text/plain": [
       "<AxesSubplot: xlabel='Year', ylabel='count'>"
      ]
     },
     "execution_count": 16,
     "metadata": {},
     "output_type": "execute_result"
    },
    {
     "data": {
      "image/png": "[encoded data removed]",
      "text/plain": [
       "<Figure size 432x288 with 1 Axes>"
      ]
     },
     "metadata": {
      "needs_background": "light"
     },
     "output_type": "display_data"
    }
   ],
   "source": [
    "# c.\tYear wise count\n",
    "sns.countplot(data=df,x=\"Year\")"
   ]
  },
  {
   "cell_type": "code",
   "execution_count": 207,
   "id": "15524bcd-e0b8-4840-ad67-8fb48aee1094",
   "metadata": {},
   "outputs": [
    {
     "data": {
      "text/plain": [
       "<AxesSubplot: ylabel='Country'>"
      ]
     },
     "execution_count": 17,
     "metadata": {},
     "output_type": "execute_result"
    },
    {
     "data": {
      "image/png": "[encoded data removed]",
      "text/plain": [
       "<Figure size 432x288 with 1 Axes>"
      ]
     },
     "metadata": {
      "needs_background": "light"
     },
     "output_type": "display_data"
    }
   ],
   "source": [
    "# d.\tCountry wise average explosion yield\n",
    "sns.barplot(y=df[\"Country\"].value_counts(),x=df[\"Country\"].value_counts().keys(),estimator='mean')"
   ]
  },
  {
   "cell_type": "code",
   "execution_count": 210,
   "id": "9bafd83a-5ae2-4ef6-b1f9-3036bc8c2a0d",
   "metadata": {},
   "outputs": [
    {
     "data": {
      "text/plain": [
       "array(['Tower', 'Airdrop', 'Uw', 'Surface', 'Crater', 'Ship', 'Atmosph',\n",
       "       'Barge', 'Balloon', 'Rocket', 'Shaft', 'Tunnel', 'Watersur',\n",
       "       'Space', 'Gallery', 'Water Su', 'Ug', 'Shaft/Gr', 'Mine',\n",
       "       'Shaft/Lg'], dtype=object)"
      ]
     },
     "execution_count": 18,
     "metadata": {},
     "output_type": "execute_result"
    }
   ],
   "source": [
    "# e.\tSurface Type count\n",
    "df[\"Type\"].unique()"
   ]
  },
  {
   "cell_type": "code",
   "execution_count": 225,
   "id": "1c84114c-1fda-47fa-bf8a-b97a9c0df059",
   "metadata": {},
   "outputs": [
    {
     "data": {
      "text/plain": [
       "<AxesSubplot: xlabel='Type', ylabel='count'>"
      ]
     },
     "execution_count": 19,
     "metadata": {},
     "output_type": "execute_result"
    },
    {
     "data": {
      "image/png": "[encoded data removed]",
      "text/plain": [
       "<Figure size 432x288 with 1 Axes>"
      ]
     },
     "metadata": {
      "needs_background": "light"
     },
     "output_type": "display_data"
    }
   ],
   "source": [
    "sns.countplot(data=df,x=\"Type\",width=0.8)"
   ]
  },
  {
   "cell_type": "code",
   "execution_count": 226,
   "id": "28921f57-3201-419f-8c8b-0d9697e3f9c6",
   "metadata": {},
   "outputs": [
    {
     "data": {
      "text/plain": [
       "<AxesSubplot: ylabel='Type'>"
      ]
     },
     "execution_count": 20,
     "metadata": {},
     "output_type": "execute_result"
    },
    {
     "data": {
      "image/png": "[encoded data removed]",
      "text/plain": [
       "<Figure size 432x288 with 1 Axes>"
      ]
     },
     "metadata": {
      "needs_background": "light"
     },
     "output_type": "display_data"
    }
   ],
   "source": [
    "# f.\tSurface type average explosion yield\n",
    "sns.barplot(y=df[\"Type\"].value_counts(),x=df[\"Type\"].value_counts().keys(),estimator='mean')"
   ]
  },
  {
   "cell_type": "code",
   "execution_count": 231,
   "id": "f45b88b6-f375-48c2-8824-1d9c492cf3d5",
   "metadata": {},
   "outputs": [
    {
     "data": {
      "text/plain": [
       "<AxesSubplot: xlabel='Purpose', ylabel='count'>"
      ]
     },
     "execution_count": 21,
     "metadata": {},
     "output_type": "execute_result"
    },
    {
     "data": {
      "image/png": "[encoded data removed]",
      "text/plain": [
       "<Figure size 432x288 with 1 Axes>"
      ]
     },
     "metadata": {
      "needs_background": "light"
     },
     "output_type": "display_data"
    }
   ],
   "source": [
    "# g.\tData Purpose Distribution (Frequency)\n",
    "sns.countplot(data=df, x=\"Purpose\")"
   ]
  },
  {
   "cell_type": "code",
   "execution_count": 242,
   "id": "825251c6-2e65-4ace-99dd-fcc8ecd25814",
   "metadata": {},
   "outputs": [
    {
     "data": {
      "text/plain": [
       "<AxesSubplot: >"
      ]
     },
     "execution_count": 22,
     "metadata": {},
     "output_type": "execute_result"
    },
    {
     "data": {
      "image/png": "[encoded data removed]",
      "text/plain": [
       "<Figure size 432x288 with 2 Axes>"
      ]
     },
     "metadata": {
      "needs_background": "light"
     },
     "output_type": "display_data"
    }
   ],
   "source": [
    "# h.\tCorrelation between yield and depth of nuclear test\n",
    "temp=pd.DataFrame([df[\"Lower_Yeild\"],df[\"Depth\"],df[\"Upper_Yeild\"]])\n",
    "temp=temp.T\n",
    "sns.heatmap(temp.corr())"
   ]
  },
  {
   "cell_type": "code",
   "execution_count": 52,
   "id": "01aa73c9-74d0-434d-8db9-331d74390fb7",
   "metadata": {},
   "outputs": [],
   "source": [
    "# i.\tBox plot of all numeric variables\n",
    "temp=pd.DataFrame([df[\"Body_magnitude\"],df[\"surface_magnitude\"],\n",
    "                  df[\"Depth\"],df[\"Lower_Yeild\"],df[\"Upper_Yeild\"]]).T"
   ]
  },
  {
   "cell_type": "code",
   "execution_count": 55,
   "id": "6c4dbcc4-cce1-4443-ab5d-e0798c4b0a0d",
   "metadata": {},
   "outputs": [
    {
     "data": {
      "text/plain": [
       "<AxesSubplot: >"
      ]
     },
     "execution_count": 55,
     "metadata": {},
     "output_type": "execute_result"
    },
    {
     "data": {
      "image/png": "[encoded data removed]",
      "text/plain": [
       "<Figure size 432x288 with 1 Axes>"
      ]
     },
     "metadata": {
      "needs_background": "light"
     },
     "output_type": "display_data"
    }
   ],
   "source": [
    "sns.boxplot(data=temp,color=\"Blue\")"
   ]
  },
  {
   "cell_type": "code",
   "execution_count": null,
   "id": "498cd2f9-c70f-4b4f-bc84-b1a23cc1bd4d",
   "metadata": {},
   "outputs": [],
   "source": []
  }
 ],
 "metadata": {
  "kernelspec": {
   "display_name": "Python 3 [3.10]",
   "language": "python",
   "name": "python3"
  },
  "language_info": {
   "codemirror_mode": {
    "name": "ipython",
    "version": 3
   },
   "file_extension": ".py",
   "mimetype": "text/x-python",
   "name": "python",
   "nbconvert_exporter": "python",
   "pygments_lexer": "ipython3",
   "version": "3.10.2"
  }
 },
 "nbformat": 4,
 "nbformat_minor": 5
}
