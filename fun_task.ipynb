{
 "cells": [
  {
   "cell_type": "markdown",
   "metadata": {},
   "source": [
    "Write function that takes in 4 list of strings and returns 4 list of length of maximum string\n",
    "\n",
    "Example : list1 = ['book', 'man', 'woman']\n",
    "          list2 = ['character', 'python', 'location', 'green']\n",
    "          list3 = ['python', 'mumbai', 'melbourne']\n",
    "          list4 = ['parliament', 'sport', 'ecommerce']\n",
    "          \n",
    "func1(list1, list2, list3, list4) ->  [5, 9, 9, 10]\n",
    "\n",
    "Once you get the list call another function which normalizes the list.\n",
    "\n",
    "Example : list1 = [5, 9, 9, 10]\n",
    "\n",
    "func2(list1) -> [5/32, 9/32, 9/32, 10/32]"
   ]
  },
  {
   "cell_type": "code",
   "execution_count": 2,
   "metadata": {},
   "outputs": [
    {
     "data": {
      "text/plain": [
       "[5, 9, 9, 10]"
      ]
     },
     "execution_count": 2,
     "metadata": {},
     "output_type": "execute_result"
    }
   ],
   "source": [
    "list1 = ['book', 'man', 'woman']\n",
    "list2 = ['character', 'python', 'location', 'green']\n",
    "list3 = ['python', 'mumbai', 'melbourne']\n",
    "list4 = ['parliament', 'sport', 'ecommerce']\n",
    "\n",
    "def lenlist(l1,l2,l3,l4):\n",
    "    result=[]\n",
    "    for j in [l1,l2,l3,l4]:\n",
    "        result.append(max(len(x) for x in j))\n",
    "    return result\n",
    "lenlist(list1,list2,list3,list4) "
   ]
  },
  {
   "cell_type": "code",
   "execution_count": 3,
   "metadata": {},
   "outputs": [
    {
     "data": {
      "text/plain": [
       "[0.15151515151515152,\n",
       " 0.2727272727272727,\n",
       " 0.2727272727272727,\n",
       " 0.30303030303030304]"
      ]
     },
     "execution_count": 3,
     "metadata": {},
     "output_type": "execute_result"
    }
   ],
   "source": [
    "def lenNormList(l1,l2,l3,l4):\n",
    "    temp=lenlist(l1,l2,l3,l4)\n",
    "    result=[]\n",
    "    for i in temp:\n",
    "        result.append(i/sum(temp))\n",
    "    return result\n",
    "lenNormList(list1,list2,list3,list4)"
   ]
  },
  {
   "cell_type": "code",
   "execution_count": null,
   "metadata": {},
   "outputs": [],
   "source": []
  },
  {
   "cell_type": "code",
   "execution_count": null,
   "metadata": {},
   "outputs": [],
   "source": []
  }
 ],
 "metadata": {
  "kernelspec": {
   "display_name": "Python 3",
   "language": "python",
   "name": "python3"
  },
  "language_info": {
   "codemirror_mode": {
    "name": "ipython",
    "version": 3
   },
   "file_extension": ".py",
   "mimetype": "text/x-python",
   "name": "python",
   "nbconvert_exporter": "python",
   "pygments_lexer": "ipython3",
   "version": "3.7.6"
  }
 },
 "nbformat": 4,
 "nbformat_minor": 4
}
