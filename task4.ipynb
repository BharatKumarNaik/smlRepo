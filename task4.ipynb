{
 "cells": [
  {
   "cell_type": "markdown",
   "metadata": {},
   "source": [
    "Let us build some application\n",
    "\n",
    "Assume you are asked to build an inventory system of grocery items at a grocery store. \n",
    "\n",
    "Assuming your store can have some 20 unique items with unique ID's create a dictionary of Item ID vs item details such as MRP, Quantity, Size etc\n",
    "\n",
    "At any time we need to keep a count of the items in the store. \n",
    "\n",
    "Build a menu where you can show different items along with its details. Allow the user\n",
    "to purchase any item and place an order. Once the user places an order ensure that you have adequate \n",
    "quantity of items and if yes then create a bill of purchased items and write them to a file against an order ID. Provide him another chance to purchase the remaining items until he exits\n",
    "Let us build some application\n",
    "\n",
    "Assume you are asked to build an inventory system of grocery items at a grocery store. \n",
    "\n",
    "Assuming your store can have some 20 unique items with unique ID's create a dictionary of Item ID vs item details such as MRP, Quantity, Size etc\n",
    "\n",
    "At any time we need to keep a count of the items in the store. \n",
    "\n",
    "Build a menu where you can show different items along with its details. Allow the user\n",
    "to purchase any item and place an order. Once the user places an order ensure that you have adequate \n",
    "quantity of items and if yes then create a bill of purchased items and write them to a file against an order ID. Provide him another chance to purchase the remaining items until he exits\n"
   ]
  },
  {
   "cell_type": "code",
   "execution_count": 49,
   "metadata": {},
   "outputs": [
    {
     "name": "stdout",
     "output_type": "stream",
     "text": [
      "Menu\n",
      "items ----> MRP\n",
      "item1 ----> 36\n",
      "item2 ----> 87\n",
      "item3 ----> 86\n",
      "item4 ----> 46\n"
     ]
    }
   ],
   "source": [
    "itemsDict={1234:{'item':'item1','quantity':3,'mrp':36,'size':40},\n",
    "          1235:{'item':'item2','quantity':5,'mrp':87,'size':10},\n",
    "          1236:{'item':'item3','quantity':1,'mrp':86,'size':10},\n",
    "          1237:{'item':'item4','quantity':9,'mrp':46,'size':50}\n",
    "          }\n",
    "def menu():\n",
    "    global itemsDict\n",
    "    print(\"Menu\")\n",
    "    print(\"items ----> MRP\")\n",
    "    for i in itemsDict:\n",
    "        print(f\"{itemsDict[i]['item']} ----> {itemsDict[i]['mrp']}\")\n",
    "\n",
    "def order(x,y):\n",
    "    orderID=1234+sum(x)\n",
    "    print(f\"filename and orderID {orderID}\")\n",
    "    global itemsDict\n",
    "    bill=[]\n",
    "    for i,j in zip(x,y):\n",
    "        temp=0\n",
    "        if i in itemsDict and itemsDict[i]['quantity']>j:\n",
    "            itemsDict[i]['quantity']-=j\n",
    "            temp+=j*itemsDict[i]['mrp']\n",
    "            bill.append(temp)\n",
    "            print(f\"{i} {itemsDict[i]['item']} : {itemsDict[i]['mrp']}*{j}  =  {temp} \")\n",
    "            with open(f'{orderID}', 'a') as file:\n",
    "                file.write(f\"{i} {itemsDict[i]['item']} : {itemsDict[i]['mrp']}*{j}  =  {temp} \\n\")\n",
    "        else:\n",
    "            print(f\"{itemsDict[i]['item']} Not available\")\n",
    "    print(f\"total : {sum(bill)}\")\n",
    "\n",
    "                \n",
    "menu()"
   ]
  },
  {
   "cell_type": "code",
   "execution_count": 50,
   "metadata": {},
   "outputs": [
    {
     "name": "stdin",
     "output_type": "stream",
     "text": [
      "enter item id 1234 1235\n",
      "enter quantity respectively 2 4\n"
     ]
    },
    {
     "name": "stdout",
     "output_type": "stream",
     "text": [
      "filename and orderID 3703\n",
      "1234 item1 : 36*2  =  72 \n",
      "1235 item2 : 87*4  =  348 \n",
      "total : 420\n"
     ]
    }
   ],
   "source": [
    "itemid=list(map(int,input(\"enter item id\").split()))\n",
    "quantity=list(map(int,input(\"enter quantity respectively\").split()))\n",
    "order(itemid,quantity)"
   ]
  },
  {
   "cell_type": "code",
   "execution_count": 45,
   "metadata": {},
   "outputs": [],
   "source": []
  },
  {
   "cell_type": "code",
   "execution_count": null,
   "metadata": {},
   "outputs": [],
   "source": []
  }
 ],
 "metadata": {
  "kernelspec": {
   "display_name": "Python 3",
   "language": "python",
   "name": "python3"
  },
  "language_info": {
   "codemirror_mode": {
    "name": "ipython",
    "version": 3
   },
   "file_extension": ".py",
   "mimetype": "text/x-python",
   "name": "python",
   "nbconvert_exporter": "python",
   "pygments_lexer": "ipython3",
   "version": "3.7.6"
  }
 },
 "nbformat": 4,
 "nbformat_minor": 4
}
